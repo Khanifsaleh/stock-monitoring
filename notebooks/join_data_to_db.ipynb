{
 "cells": [
  {
   "cell_type": "code",
   "execution_count": 1,
   "id": "4e3c470e",
   "metadata": {},
   "outputs": [],
   "source": [
    "import pandas as pd\n",
    "import re\n",
    "import sqlite3"
   ]
  },
  {
   "cell_type": "code",
   "execution_count": 2,
   "id": "6bc2b98a",
   "metadata": {},
   "outputs": [],
   "source": [
    "bisnis = pd.read_csv('bisnis_news.csv')\n",
    "bisnis['source'] = 'bisnis'\n",
    "\n",
    "cnbc = pd.read_csv('cnbc_news.csv')\n",
    "cnbc['source'] = 'cnbc'\n",
    "\n",
    "idx1 = pd.read_csv('idxchannel_news.csv')\n",
    "idx2 = pd.read_csv('idxchannel_news2.csv')\n",
    "idx = pd.concat([idx1, idx2], ignore_index=True)\n",
    "idx = idx[idx['category']=='market-news'].drop(columns=['category'], axis=1)\n",
    "idx['source'] = 'idx'\n",
    "\n",
    "investor = pd.read_csv('investor_id_news.csv')\n",
    "investor['source'] = 'investorid'\n",
    "\n",
    "iqplus = pd.read_csv('iqplus_news.csv')\n",
    "iqplus['source'] = 'iqplus'\n",
    "\n",
    "kontan = pd.read_csv('kontan_news.csv')\n",
    "kontan['source'] = 'kontan'"
   ]
  },
  {
   "cell_type": "code",
   "execution_count": 3,
   "id": "1a8e1af7",
   "metadata": {},
   "outputs": [],
   "source": [
    "df = pd.concat([bisnis, cnbc, idx, investor, iqplus, kontan], ignore_index=True)"
   ]
  },
  {
   "cell_type": "code",
   "execution_count": 4,
   "id": "419c9645",
   "metadata": {},
   "outputs": [
    {
     "data": {
      "text/plain": [
       "Index(['published', 'link', 'title', 'content', 'source'], dtype='object')"
      ]
     },
     "execution_count": 4,
     "metadata": {},
     "output_type": "execute_result"
    }
   ],
   "source": [
    "df.columns"
   ]
  },
  {
   "cell_type": "code",
   "execution_count": 5,
   "id": "db65cd63",
   "metadata": {},
   "outputs": [
    {
     "data": {
      "text/plain": [
       "published    0\n",
       "link         0\n",
       "title        0\n",
       "content      1\n",
       "source       0\n",
       "dtype: int64"
      ]
     },
     "execution_count": 5,
     "metadata": {},
     "output_type": "execute_result"
    }
   ],
   "source": [
    "df.isna().sum()"
   ]
  },
  {
   "cell_type": "code",
   "execution_count": 6,
   "id": "4594e2d1",
   "metadata": {},
   "outputs": [
    {
     "data": {
      "text/plain": [
       "1102"
      ]
     },
     "execution_count": 6,
     "metadata": {},
     "output_type": "execute_result"
    }
   ],
   "source": [
    "len(df)"
   ]
  },
  {
   "cell_type": "code",
   "execution_count": 7,
   "id": "f941cdb9",
   "metadata": {},
   "outputs": [],
   "source": [
    "df = df.drop_duplicates(subset=['link'])"
   ]
  },
  {
   "cell_type": "code",
   "execution_count": 8,
   "id": "fbbc2303",
   "metadata": {},
   "outputs": [
    {
     "data": {
      "text/plain": [
       "1101"
      ]
     },
     "execution_count": 8,
     "metadata": {},
     "output_type": "execute_result"
    }
   ],
   "source": [
    "len(df)"
   ]
  },
  {
   "cell_type": "code",
   "execution_count": 9,
   "id": "616c32aa",
   "metadata": {},
   "outputs": [
    {
     "data": {
      "text/plain": [
       "published    0\n",
       "link         0\n",
       "title        0\n",
       "content      1\n",
       "source       0\n",
       "dtype: int64"
      ]
     },
     "execution_count": 9,
     "metadata": {},
     "output_type": "execute_result"
    }
   ],
   "source": [
    "df.isna().sum()"
   ]
  },
  {
   "cell_type": "code",
   "execution_count": 10,
   "id": "52c4044a",
   "metadata": {},
   "outputs": [
    {
     "data": {
      "text/plain": [
       "source\n",
       "kontan        447\n",
       "iqplus        300\n",
       "bisnis        223\n",
       "cnbc          100\n",
       "investorid     30\n",
       "idx             1\n",
       "Name: count, dtype: int64"
      ]
     },
     "execution_count": 10,
     "metadata": {},
     "output_type": "execute_result"
    }
   ],
   "source": [
    "df['source'].value_counts()"
   ]
  },
  {
   "cell_type": "code",
   "execution_count": 11,
   "id": "c647551a",
   "metadata": {},
   "outputs": [
    {
     "data": {
      "text/html": [
       "<div>\n",
       "<style scoped>\n",
       "    .dataframe tbody tr th:only-of-type {\n",
       "        vertical-align: middle;\n",
       "    }\n",
       "\n",
       "    .dataframe tbody tr th {\n",
       "        vertical-align: top;\n",
       "    }\n",
       "\n",
       "    .dataframe thead th {\n",
       "        text-align: right;\n",
       "    }\n",
       "</style>\n",
       "<table border=\"1\" class=\"dataframe\">\n",
       "  <thead>\n",
       "    <tr style=\"text-align: right;\">\n",
       "      <th></th>\n",
       "      <th>published</th>\n",
       "      <th>link</th>\n",
       "      <th>title</th>\n",
       "      <th>content</th>\n",
       "      <th>source</th>\n",
       "    </tr>\n",
       "  </thead>\n",
       "  <tbody>\n",
       "    <tr>\n",
       "      <th>986</th>\n",
       "      <td>2025-08-07</td>\n",
       "      <td>https://investasi.kontan.co.id/news/ihsg-mengu...</td>\n",
       "      <td>IHSG Menguat 0,49% di Sesi Pertama Hari Ini (7...</td>\n",
       "      <td>NaN</td>\n",
       "      <td>kontan</td>\n",
       "    </tr>\n",
       "  </tbody>\n",
       "</table>\n",
       "</div>"
      ],
      "text/plain": [
       "      published                                               link  \\\n",
       "986  2025-08-07  https://investasi.kontan.co.id/news/ihsg-mengu...   \n",
       "\n",
       "                                                 title content  source  \n",
       "986  IHSG Menguat 0,49% di Sesi Pertama Hari Ini (7...     NaN  kontan  "
      ]
     },
     "execution_count": 11,
     "metadata": {},
     "output_type": "execute_result"
    }
   ],
   "source": [
    "df[df['content'].isna()]"
   ]
  },
  {
   "cell_type": "code",
   "execution_count": 12,
   "id": "4fdbb01f",
   "metadata": {},
   "outputs": [],
   "source": [
    "df = df.reset_index(drop=True)"
   ]
  },
  {
   "cell_type": "code",
   "execution_count": 13,
   "id": "a62bf8b3",
   "metadata": {},
   "outputs": [],
   "source": [
    "def clean_invisible_spaces(text):\n",
    "    return re.sub(r'[\\u00A0\\u2000-\\u200B\\u202F\\u205F\\u3000]', ' ', text).strip()\n",
    "\n",
    "PHRASES_PATTERN = re.compile(\n",
    "    r'Jakarta, CNBC Indonesia|'\n",
    "    r'IDXChannel—|KONTAN\\.CO\\.ID JAKARTA\\.?|'\n",
    "    r'Bisnis\\.com , JAKARTA|Bisnis\\.com, JAKARTA|'\n",
    "    r'JAKARTA, investor\\.id|Pasardana\\.id|KONTAN\\.CO\\.ID|'\n",
    "    r'IQPlus,{0,}\\s{0,}\\(\\d+/\\d+\\)',\n",
    "    re.IGNORECASE\n",
    ")\n",
    "LEADING_PUNCT_PATTERN = re.compile(r'^[^\\w\\s]+')\n",
    "DASH_PATTERN = re.compile(r'\\s*[-–—]\\s*')\n",
    "MULTISPACE_PATTERN = re.compile(r'\\s+')\n",
    "\n",
    "def clean_text(text):\n",
    "    if not isinstance(text, str):\n",
    "        return text\n",
    "    text = clean_invisible_spaces(text)\n",
    "    text = PHRASES_PATTERN.sub(' ', text).strip()\n",
    "    text = LEADING_PUNCT_PATTERN.sub('', text)\n",
    "    text = DASH_PATTERN.sub(' ', text)\n",
    "    text = MULTISPACE_PATTERN.sub(' ', text)\n",
    "    return text.strip()"
   ]
  },
  {
   "cell_type": "code",
   "execution_count": 14,
   "id": "f27d7bb4",
   "metadata": {},
   "outputs": [],
   "source": [
    "df['content'] = df['content'].apply(clean_text)"
   ]
  },
  {
   "cell_type": "code",
   "execution_count": 15,
   "id": "940032b9",
   "metadata": {},
   "outputs": [
    {
     "data": {
      "text/plain": [
       "565    PT BFI Finance Indonesia Tbk (BFIN) telah mene...\n",
       "612    PT Bank Rakyat Indonesia (Persero) Tbk atau BR...\n",
       "640    Sebagai bagian dari perannya dalam mendorong i...\n",
       "410    Sani Handoko selaku Komisaris utama PT Multika...\n",
       "516    PT Nusa Palapa Gemilang Tbk (NPGF) meraih penj...\n",
       "Name: content, dtype: object"
      ]
     },
     "execution_count": 15,
     "metadata": {},
     "output_type": "execute_result"
    }
   ],
   "source": [
    "df[df['source']=='iqplus']['content'].sample(5)"
   ]
  },
  {
   "cell_type": "code",
   "execution_count": 16,
   "id": "98bb1ff4",
   "metadata": {},
   "outputs": [],
   "source": [
    "df['DW_LOAD_TS'] = pd.to_datetime('now')\n",
    "df['DW_LOAD_TS'] = df['DW_LOAD_TS'].dt.tz_localize('Asia/Jakarta')\n",
    "df['DW_MODIFY_TS'] = pd.to_datetime('now')\n",
    "df['DW_MODIFY_TS'] = df['DW_MODIFY_TS'].dt.tz_localize('Asia/Jakarta')"
   ]
  },
  {
   "cell_type": "code",
   "execution_count": 17,
   "id": "4b5971a9",
   "metadata": {},
   "outputs": [],
   "source": [
    "db_path = \"stock_news.db\"\n",
    "table_name = \"news\"\n",
    "with sqlite3.connect(db_path) as conn:\n",
    "    df.to_sql(table_name, conn, if_exists=\"replace\", index=False, dtype={\n",
    "        'content': 'TEXT'  # explicitly set to TEXT\n",
    "    })"
   ]
  },
  {
   "cell_type": "code",
   "execution_count": 18,
   "id": "1ac59af1",
   "metadata": {},
   "outputs": [
    {
     "data": {
      "text/plain": [
       "1101"
      ]
     },
     "execution_count": 18,
     "metadata": {},
     "output_type": "execute_result"
    }
   ],
   "source": [
    "len(df)"
   ]
  },
  {
   "cell_type": "code",
   "execution_count": null,
   "id": "22902e88",
   "metadata": {},
   "outputs": [],
   "source": []
  }
 ],
 "metadata": {
  "kernelspec": {
   "display_name": "stock-monitor",
   "language": "python",
   "name": "python3"
  },
  "language_info": {
   "codemirror_mode": {
    "name": "ipython",
    "version": 3
   },
   "file_extension": ".py",
   "mimetype": "text/x-python",
   "name": "python",
   "nbconvert_exporter": "python",
   "pygments_lexer": "ipython3",
   "version": "3.11.13"
  }
 },
 "nbformat": 4,
 "nbformat_minor": 5
}
