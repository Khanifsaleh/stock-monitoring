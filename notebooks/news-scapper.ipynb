{
 "cells": [
  {
   "cell_type": "code",
   "execution_count": 570,
   "id": "f992ddf6",
   "metadata": {},
   "outputs": [],
   "source": [
    "import requests\n",
    "from bs4 import BeautifulSoup\n",
    "from datetime import datetime, timedelta\n",
    "import pandas as pd\n",
    "import time\n",
    "import feedparser\n",
    "from tqdm import tqdm\n",
    "import random\n",
    "import numpy as np\n",
    "import re\n",
    "from urllib.parse import urlparse\n",
    "import sqlite3\n",
    "\n",
    "import warnings\n",
    "warnings.filterwarnings(\"ignore\")"
   ]
  },
  {
   "cell_type": "code",
   "execution_count": 571,
   "id": "a776beff",
   "metadata": {},
   "outputs": [],
   "source": [
    "db_path = '../data/db/stock_news.db'\n",
    "conn = sqlite3.connect(db_path)"
   ]
  },
  {
   "cell_type": "markdown",
   "id": "181c3dbf",
   "metadata": {},
   "source": [
    "# CNBC"
   ]
  },
  {
   "cell_type": "code",
   "execution_count": 560,
   "id": "ec3f4478",
   "metadata": {},
   "outputs": [],
   "source": [
    "last_date = pd.read_sql(\"SELECT MAX(published) AS last_date FROM news WHERE SOURCE = 'cnbc'\", conn)[\"last_date\"].iloc[0]"
   ]
  },
  {
   "cell_type": "code",
   "execution_count": 562,
   "id": "aff481a1",
   "metadata": {},
   "outputs": [],
   "source": [
    "last_date = pd.to_datetime(last_date)"
   ]
  },
  {
   "cell_type": "code",
   "execution_count": 563,
   "id": "382cf009",
   "metadata": {},
   "outputs": [
    {
     "data": {
      "text/plain": [
       "Timestamp('2025-08-08 20:20:10+0700', tz='UTC+07:00')"
      ]
     },
     "execution_count": 563,
     "metadata": {},
     "output_type": "execute_result"
    }
   ],
   "source": [
    "last_date"
   ]
  },
  {
   "cell_type": "code",
   "execution_count": 564,
   "id": "c0323b76",
   "metadata": {},
   "outputs": [],
   "source": [
    "rss_url = \"https://www.cnbcindonesia.com/market/rss\"\n",
    "feed = feedparser.parse(rss_url)\n",
    "data = []\n",
    "for entry in feed.entries:\n",
    "    data.append({\n",
    "        \"title\": entry.title,\n",
    "        \"link\": entry.link,\n",
    "        \"published\": entry.published\n",
    "    })\n",
    "\n",
    "df = pd.DataFrame(data)\n",
    "df[\"published\"] = pd.to_datetime(df[\"published\"])"
   ]
  },
  {
   "cell_type": "code",
   "execution_count": 568,
   "id": "6ca7f4d9",
   "metadata": {},
   "outputs": [],
   "source": [
    "df = df[df['published']>last_date]"
   ]
  },
  {
   "cell_type": "code",
   "execution_count": 569,
   "id": "0191b162",
   "metadata": {},
   "outputs": [
    {
     "data": {
      "text/html": [
       "<div>\n",
       "<style scoped>\n",
       "    .dataframe tbody tr th:only-of-type {\n",
       "        vertical-align: middle;\n",
       "    }\n",
       "\n",
       "    .dataframe tbody tr th {\n",
       "        vertical-align: top;\n",
       "    }\n",
       "\n",
       "    .dataframe thead th {\n",
       "        text-align: right;\n",
       "    }\n",
       "</style>\n",
       "<table border=\"1\" class=\"dataframe\">\n",
       "  <thead>\n",
       "    <tr style=\"text-align: right;\">\n",
       "      <th></th>\n",
       "      <th>title</th>\n",
       "      <th>link</th>\n",
       "      <th>published</th>\n",
       "    </tr>\n",
       "  </thead>\n",
       "  <tbody>\n",
       "    <tr>\n",
       "      <th>0</th>\n",
       "      <td>Perkara Modal Minim, OJK Pantau Ketat 11 Pindar</td>\n",
       "      <td>https://www.cnbcindonesia.com/market/202508100...</td>\n",
       "      <td>2025-08-10 08:45:17+07:00</td>\n",
       "    </tr>\n",
       "    <tr>\n",
       "      <th>1</th>\n",
       "      <td>Cek! Daftar 22 Bank Perkreditan Rakyat RI yang...</td>\n",
       "      <td>https://www.cnbcindonesia.com/market/202508100...</td>\n",
       "      <td>2025-08-10 08:15:38+07:00</td>\n",
       "    </tr>\n",
       "    <tr>\n",
       "      <th>2</th>\n",
       "      <td>Cek 5 Orang Terkaya RI per Agustus 2025, Ada M...</td>\n",
       "      <td>https://www.cnbcindonesia.com/market/202508100...</td>\n",
       "      <td>2025-08-10 07:40:40+07:00</td>\n",
       "    </tr>\n",
       "    <tr>\n",
       "      <th>3</th>\n",
       "      <td>Perusahaan Segera IPO, JK Bakal Raup Rp 162 Tr...</td>\n",
       "      <td>https://www.cnbcindonesia.com/market/202508100...</td>\n",
       "      <td>2025-08-10 07:20:34+07:00</td>\n",
       "    </tr>\n",
       "    <tr>\n",
       "      <th>4</th>\n",
       "      <td>Setelah Rekening Bank, PPATK Pantau E-Wallet N...</td>\n",
       "      <td>https://www.cnbcindonesia.com/market/202508100...</td>\n",
       "      <td>2025-08-10 06:40:32+07:00</td>\n",
       "    </tr>\n",
       "  </tbody>\n",
       "</table>\n",
       "</div>"
      ],
      "text/plain": [
       "                                               title  \\\n",
       "0    Perkara Modal Minim, OJK Pantau Ketat 11 Pindar   \n",
       "1  Cek! Daftar 22 Bank Perkreditan Rakyat RI yang...   \n",
       "2  Cek 5 Orang Terkaya RI per Agustus 2025, Ada M...   \n",
       "3  Perusahaan Segera IPO, JK Bakal Raup Rp 162 Tr...   \n",
       "4  Setelah Rekening Bank, PPATK Pantau E-Wallet N...   \n",
       "\n",
       "                                                link                 published  \n",
       "0  https://www.cnbcindonesia.com/market/202508100... 2025-08-10 08:45:17+07:00  \n",
       "1  https://www.cnbcindonesia.com/market/202508100... 2025-08-10 08:15:38+07:00  \n",
       "2  https://www.cnbcindonesia.com/market/202508100... 2025-08-10 07:40:40+07:00  \n",
       "3  https://www.cnbcindonesia.com/market/202508100... 2025-08-10 07:20:34+07:00  \n",
       "4  https://www.cnbcindonesia.com/market/202508100... 2025-08-10 06:40:32+07:00  "
      ]
     },
     "execution_count": 569,
     "metadata": {},
     "output_type": "execute_result"
    }
   ],
   "source": [
    "df.head()"
   ]
  },
  {
   "cell_type": "code",
   "execution_count": 120,
   "id": "c02fe361",
   "metadata": {},
   "outputs": [
    {
     "name": "stderr",
     "output_type": "stream",
     "text": [
      "100%|██████████| 100/100 [22:28<00:00, 13.49s/it]\n"
     ]
    }
   ],
   "source": [
    "for i, row in tqdm(df.iterrows(), total=df.shape[0]):\n",
    "    link= row['link']\n",
    "    resp = requests.get(link)\n",
    "    soup = BeautifulSoup(resp.text, \"html.parser\")\n",
    "    detail_div = soup.find(\"div\", class_=\"detail-text\")\n",
    "    paragraphs = detail_div.find_all(\"p\")\n",
    "    content = \" \".join([p.get_text() for p in paragraphs])\n",
    "    df.at[i, 'content'] = content\n",
    "\n",
    "    wait_time = random.uniform(1, 25)\n",
    "    time.sleep(wait_time)"
   ]
  },
  {
   "cell_type": "code",
   "execution_count": 393,
   "id": "62eba599",
   "metadata": {},
   "outputs": [],
   "source": [
    "def clean_invisible_spaces(text):\n",
    "    return re.sub(r'[\\u00A0\\u2000-\\u200B\\u202F\\u205F\\u3000]', ' ', text).strip()\n",
    "\n",
    "def clean_text(text):\n",
    "    text = clean_invisible_spaces(text)\n",
    "    text = re.sub('Jakarta, CNBC Indonesia', '', text)\n",
    "    text = re.sub(r'- |— |IDXChannel—|KONTAN.CO.ID JAKARTA.|Bisnis.com , JAKARTA|JAKARTA, investor.id', ' ', text)\n",
    "    text = re.sub(r'\\s+', ' ', text)\n",
    "    return text.strip()\n",
    "\n",
    "exclude_phrases = [\n",
    "    'Reporter', \n",
    "    'Editor', \n",
    "    'Baca Juga', \n",
    "    'Cek Berita dan Artikel yang lain', \n",
    "    'Menarik Dibaca', \n",
    "    'Selanjutnya:'\n",
    "]"
   ]
  },
  {
   "cell_type": "code",
   "execution_count": 143,
   "id": "f9f24b28",
   "metadata": {},
   "outputs": [],
   "source": [
    "df['content'] = df['content'].apply(clean_text)"
   ]
  },
  {
   "cell_type": "code",
   "execution_count": 144,
   "id": "6d8d7c5d",
   "metadata": {},
   "outputs": [],
   "source": [
    "df['source'] = 'CNBC'"
   ]
  },
  {
   "cell_type": "code",
   "execution_count": 145,
   "id": "cb8f612a",
   "metadata": {},
   "outputs": [],
   "source": [
    "df.to_csv(\"cnbc_news.csv\", index=False)"
   ]
  },
  {
   "cell_type": "markdown",
   "id": "80939373",
   "metadata": {},
   "source": [
    "# KONTAN"
   ]
  },
  {
   "cell_type": "code",
   "execution_count": 587,
   "id": "fd900045",
   "metadata": {},
   "outputs": [],
   "source": [
    "conn = sqlite3.connect(db_path)\n",
    "query = f\"\"\"\n",
    "            SELECT MAX(published) AS last_date\n",
    "            FROM news\n",
    "            WHERE source = 'kontan'\n",
    "        \"\"\"\n",
    "last_date = pd.read_sql(query, conn)[\"last_date\"].iloc[0]\n",
    "last_date = pd.to_datetime(last_date)\n",
    "last_date = last_date.strftime('%Y-%m-%d 00:00:00')\n",
    "query = f\"\"\"\n",
    "            SELECT DISTINCT link\n",
    "            FROM news\n",
    "            WHERE DATETIME(published) >= ?\n",
    "            AND source = 'kontan'\n",
    "        \"\"\"\n",
    "df = pd.read_sql(query, conn, params=(last_date,))"
   ]
  },
  {
   "cell_type": "code",
   "execution_count": 588,
   "id": "d4d08a6f",
   "metadata": {},
   "outputs": [
    {
     "data": {
      "text/plain": [
       "'2025-08-09 00:00:00'"
      ]
     },
     "execution_count": 588,
     "metadata": {},
     "output_type": "execute_result"
    }
   ],
   "source": [
    "last_date"
   ]
  },
  {
   "cell_type": "code",
   "execution_count": 589,
   "id": "45dc7d9c",
   "metadata": {},
   "outputs": [
    {
     "data": {
      "text/html": [
       "<div>\n",
       "<style scoped>\n",
       "    .dataframe tbody tr th:only-of-type {\n",
       "        vertical-align: middle;\n",
       "    }\n",
       "\n",
       "    .dataframe tbody tr th {\n",
       "        vertical-align: top;\n",
       "    }\n",
       "\n",
       "    .dataframe thead th {\n",
       "        text-align: right;\n",
       "    }\n",
       "</style>\n",
       "<table border=\"1\" class=\"dataframe\">\n",
       "  <thead>\n",
       "    <tr style=\"text-align: right;\">\n",
       "      <th></th>\n",
       "      <th>link</th>\n",
       "    </tr>\n",
       "  </thead>\n",
       "  <tbody>\n",
       "    <tr>\n",
       "      <th>0</th>\n",
       "      <td>https://investasi.kontan.co.id/news/ihsg-mengu...</td>\n",
       "    </tr>\n",
       "    <tr>\n",
       "      <th>1</th>\n",
       "      <td>https://investasi.kontan.co.id/news/harga-emas...</td>\n",
       "    </tr>\n",
       "    <tr>\n",
       "      <th>2</th>\n",
       "      <td>https://investasi.kontan.co.id/news/ihsg-ditut...</td>\n",
       "    </tr>\n",
       "    <tr>\n",
       "      <th>3</th>\n",
       "      <td>https://investasi.kontan.co.id/news/makmur-ber...</td>\n",
       "    </tr>\n",
       "    <tr>\n",
       "      <th>4</th>\n",
       "      <td>https://investasi.kontan.co.id/news/18-agustus...</td>\n",
       "    </tr>\n",
       "    <tr>\n",
       "      <th>5</th>\n",
       "      <td>https://investasi.kontan.co.id/news/ihsg-melem...</td>\n",
       "    </tr>\n",
       "    <tr>\n",
       "      <th>6</th>\n",
       "      <td>https://investasi.kontan.co.id/news/cek-saham-...</td>\n",
       "    </tr>\n",
       "    <tr>\n",
       "      <th>7</th>\n",
       "      <td>https://investasi.kontan.co.id/news/emiten-yan...</td>\n",
       "    </tr>\n",
       "    <tr>\n",
       "      <th>8</th>\n",
       "      <td>https://investasi.kontan.co.id/news/wall-stree...</td>\n",
       "    </tr>\n",
       "    <tr>\n",
       "      <th>9</th>\n",
       "      <td>https://investasi.kontan.co.id/news/rupiah-men...</td>\n",
       "    </tr>\n",
       "    <tr>\n",
       "      <th>10</th>\n",
       "      <td>https://investasi.kontan.co.id/news/ada-antm-t...</td>\n",
       "    </tr>\n",
       "  </tbody>\n",
       "</table>\n",
       "</div>"
      ],
      "text/plain": [
       "                                                 link\n",
       "0   https://investasi.kontan.co.id/news/ihsg-mengu...\n",
       "1   https://investasi.kontan.co.id/news/harga-emas...\n",
       "2   https://investasi.kontan.co.id/news/ihsg-ditut...\n",
       "3   https://investasi.kontan.co.id/news/makmur-ber...\n",
       "4   https://investasi.kontan.co.id/news/18-agustus...\n",
       "5   https://investasi.kontan.co.id/news/ihsg-melem...\n",
       "6   https://investasi.kontan.co.id/news/cek-saham-...\n",
       "7   https://investasi.kontan.co.id/news/emiten-yan...\n",
       "8   https://investasi.kontan.co.id/news/wall-stree...\n",
       "9   https://investasi.kontan.co.id/news/rupiah-men...\n",
       "10  https://investasi.kontan.co.id/news/ada-antm-t..."
      ]
     },
     "execution_count": 589,
     "metadata": {},
     "output_type": "execute_result"
    }
   ],
   "source": [
    "df"
   ]
  },
  {
   "cell_type": "code",
   "execution_count": 577,
   "id": "40a32b2f",
   "metadata": {},
   "outputs": [
    {
     "data": {
      "text/plain": [
       "Timestamp('2025-08-09 00:00:00')"
      ]
     },
     "execution_count": 577,
     "metadata": {},
     "output_type": "execute_result"
    }
   ],
   "source": [
    "last_date"
   ]
  },
  {
   "cell_type": "code",
   "execution_count": 159,
   "id": "190deadc",
   "metadata": {},
   "outputs": [],
   "source": [
    "base_url = \"https://www.kontan.co.id/search/indeks?kanal=investasi&tanggal={day}&bulan={month}&tahun={year}&pos=indeks&per_page={per_page}\"\n",
    "def get_kontan_news(day, month, year, per_page=''):\n",
    "    url = base_url.format(day=day, month=month, year=year, per_page=per_page)\n",
    "    resp = requests.get(url)\n",
    "    soup = BeautifulSoup(resp.text, \"html.parser\")\n",
    "    return soup"
   ]
  },
  {
   "cell_type": "code",
   "execution_count": null,
   "id": "a4245032",
   "metadata": {},
   "outputs": [],
   "source": [
    "dates = pd.date_range(start='2025-08-01', end='2025-08-09', freq='D')\n",
    "dates_links = {}\n",
    "for date in dates:\n",
    "    links = []\n",
    "    day = date.strftime('%d')\n",
    "    month = date.strftime('%m')\n",
    "    year = date.strftime('%Y')\n",
    "    per_page = 0\n",
    "    while True:\n",
    "        soup = get_kontan_news(day, month, year, per_page=str(per_page))\n",
    "        if not soup.find('div', class_='list-berita'):\n",
    "            break\n",
    "        if not soup.find('div', class_='list-berita').find_all('div', class_='sp-hl linkto-black'):\n",
    "            break\n",
    "        for soup_link in soup.find('div', class_='list-berita').find_all('div', class_='sp-hl linkto-black'):\n",
    "            link = soup_link.find('a')['href']\n",
    "            links.append(link)\n",
    "        per_page += 20\n",
    "    dates_links[date] = links"
   ]
  },
  {
   "cell_type": "code",
   "execution_count": 181,
   "id": "e99ffba1",
   "metadata": {},
   "outputs": [
    {
     "name": "stderr",
     "output_type": "stream",
     "text": [
      "C:\\Users\\khanifud1\\AppData\\Local\\Temp\\ipykernel_32516\\1113688169.py:3: FutureWarning: The behavior of DataFrame concatenation with empty or all-NA entries is deprecated. In a future version, this will no longer exclude empty or all-NA columns when determining the result dtypes. To retain the old behavior, exclude the relevant entries before the concat operation.\n",
      "  df = pd.concat([df, pd.DataFrame({'date': date, 'published': links})], ignore_index=True)\n"
     ]
    }
   ],
   "source": [
    "df = pd.DataFrame(columns=['date', 'published'])\n",
    "for date, links in dates_links.items():\n",
    "    df = pd.concat([df, pd.DataFrame({'date': date, 'published': links})], ignore_index=True)"
   ]
  },
  {
   "cell_type": "code",
   "execution_count": 222,
   "id": "4c016dcb",
   "metadata": {},
   "outputs": [
    {
     "name": "stderr",
     "output_type": "stream",
     "text": [
      "100%|██████████| 447/447 [1:59:07<00:00, 15.99s/it]    \n"
     ]
    }
   ],
   "source": [
    "\n",
    "for i, row in tqdm(df.iterrows(), total=df.shape[0]):\n",
    "    link = row['published']\n",
    "    resp = requests.get(link)\n",
    "    soup = BeautifulSoup(resp.text, \"html.parser\")\n",
    "    df.loc[i, 'title'] = soup.find('title').get_text()\n",
    "    element = soup.find(attrs={\"itemprop\": 'articleBody'})\n",
    "    if element:\n",
    "        paragraphs = element.find_all('p')\n",
    "        if paragraphs:\n",
    "            content = \" \".join(\n",
    "                p.get_text()\n",
    "                for p in paragraphs\n",
    "                if not any(phrase in p.get_text() for phrase in exclude_phrases)\n",
    "            )\n",
    "            content = clean_text(content)\n",
    "            df.loc[i, 'content'] = content\n",
    "    \n",
    "    wait_time = random.uniform(1, 25)\n",
    "    time.sleep(wait_time)"
   ]
  },
  {
   "cell_type": "code",
   "execution_count": 223,
   "id": "0aa10cc5",
   "metadata": {},
   "outputs": [
    {
     "data": {
      "text/plain": [
       "date         0\n",
       "published    0\n",
       "title        0\n",
       "content      0\n",
       "dtype: int64"
      ]
     },
     "execution_count": 223,
     "metadata": {},
     "output_type": "execute_result"
    }
   ],
   "source": [
    "df.isna().sum()"
   ]
  },
  {
   "cell_type": "code",
   "execution_count": 224,
   "id": "0f982536",
   "metadata": {},
   "outputs": [
    {
     "data": {
      "text/html": [
       "<div>\n",
       "<style scoped>\n",
       "    .dataframe tbody tr th:only-of-type {\n",
       "        vertical-align: middle;\n",
       "    }\n",
       "\n",
       "    .dataframe tbody tr th {\n",
       "        vertical-align: top;\n",
       "    }\n",
       "\n",
       "    .dataframe thead th {\n",
       "        text-align: right;\n",
       "    }\n",
       "</style>\n",
       "<table border=\"1\" class=\"dataframe\">\n",
       "  <thead>\n",
       "    <tr style=\"text-align: right;\">\n",
       "      <th></th>\n",
       "      <th>date</th>\n",
       "      <th>published</th>\n",
       "      <th>title</th>\n",
       "      <th>content</th>\n",
       "    </tr>\n",
       "  </thead>\n",
       "  <tbody>\n",
       "    <tr>\n",
       "      <th>0</th>\n",
       "      <td>2025-08-01</td>\n",
       "      <td>https://investasi.kontan.co.id/news/asing-net-...</td>\n",
       "      <td>Asing Net Sell Saat IHSG Menguat, Cek Saham ya...</td>\n",
       "      <td>KONTAN.CO.ID JAKARTA. Indeks Harga Saham Gabun...</td>\n",
       "    </tr>\n",
       "    <tr>\n",
       "      <th>1</th>\n",
       "      <td>2025-08-01</td>\n",
       "      <td>https://investasi.kontan.co.id/news/ihsg-mengh...</td>\n",
       "      <td>IHSG Menghijau, Cermati Saham yang Banyak Dibo...</td>\n",
       "      <td>KONTAN.CO.ID JAKARTA. Indeks Harga Saham Gabun...</td>\n",
       "    </tr>\n",
       "    <tr>\n",
       "      <th>2</th>\n",
       "      <td>2025-08-01</td>\n",
       "      <td>https://investasi.kontan.co.id/news/saham-coco...</td>\n",
       "      <td>Saham COCO dan BUVA Disuspensi pada Jumat (1/8...</td>\n",
       "      <td>KONTAN.CO.ID JAKARTA. PT Bursa Efek Indonesia ...</td>\n",
       "    </tr>\n",
       "    <tr>\n",
       "      <th>3</th>\n",
       "      <td>2025-08-01</td>\n",
       "      <td>https://investasi.kontan.co.id/news/wall-stree...</td>\n",
       "      <td>Wall Street Anjlok, Dipicu Tarif Trump dan Kin...</td>\n",
       "      <td>KONTAN.CO.ID NEW YORK. Indeks utama Wall Stree...</td>\n",
       "    </tr>\n",
       "    <tr>\n",
       "      <th>4</th>\n",
       "      <td>2025-08-01</td>\n",
       "      <td>https://investasi.kontan.co.id/news/komisaris-...</td>\n",
       "      <td>Komisaris Tak Dapat Tantiem dan Bonus, Begini ...</td>\n",
       "      <td>KONTAN.CO.ID JAKARTA. Kebijakan Badan Pengelol...</td>\n",
       "    </tr>\n",
       "  </tbody>\n",
       "</table>\n",
       "</div>"
      ],
      "text/plain": [
       "        date                                          published  \\\n",
       "0 2025-08-01  https://investasi.kontan.co.id/news/asing-net-...   \n",
       "1 2025-08-01  https://investasi.kontan.co.id/news/ihsg-mengh...   \n",
       "2 2025-08-01  https://investasi.kontan.co.id/news/saham-coco...   \n",
       "3 2025-08-01  https://investasi.kontan.co.id/news/wall-stree...   \n",
       "4 2025-08-01  https://investasi.kontan.co.id/news/komisaris-...   \n",
       "\n",
       "                                               title  \\\n",
       "0  Asing Net Sell Saat IHSG Menguat, Cek Saham ya...   \n",
       "1  IHSG Menghijau, Cermati Saham yang Banyak Dibo...   \n",
       "2  Saham COCO dan BUVA Disuspensi pada Jumat (1/8...   \n",
       "3  Wall Street Anjlok, Dipicu Tarif Trump dan Kin...   \n",
       "4  Komisaris Tak Dapat Tantiem dan Bonus, Begini ...   \n",
       "\n",
       "                                             content  \n",
       "0  KONTAN.CO.ID JAKARTA. Indeks Harga Saham Gabun...  \n",
       "1  KONTAN.CO.ID JAKARTA. Indeks Harga Saham Gabun...  \n",
       "2  KONTAN.CO.ID JAKARTA. PT Bursa Efek Indonesia ...  \n",
       "3  KONTAN.CO.ID NEW YORK. Indeks utama Wall Stree...  \n",
       "4  KONTAN.CO.ID JAKARTA. Kebijakan Badan Pengelol...  "
      ]
     },
     "execution_count": 224,
     "metadata": {},
     "output_type": "execute_result"
    }
   ],
   "source": [
    "df.head()"
   ]
  },
  {
   "cell_type": "code",
   "execution_count": 225,
   "id": "7d560aaf",
   "metadata": {},
   "outputs": [],
   "source": [
    "df.columns = ['published', 'link', 'title', 'content']"
   ]
  },
  {
   "cell_type": "code",
   "execution_count": 226,
   "id": "cf883b7e",
   "metadata": {},
   "outputs": [],
   "source": [
    "df.to_csv('kontan_news.csv', index=False)"
   ]
  },
  {
   "cell_type": "markdown",
   "id": "ad2acb7a",
   "metadata": {},
   "source": [
    "# BISNIS.COM"
   ]
  },
  {
   "cell_type": "code",
   "execution_count": 279,
   "id": "9cf6a51f",
   "metadata": {},
   "outputs": [
    {
     "name": "stderr",
     "output_type": "stream",
     "text": [
      "  0%|          | 0/9 [00:00<?, ?it/s]C:\\Users\\khanifud1\\AppData\\Local\\Temp\\ipykernel_32516\\1031591246.py:39: FutureWarning: The behavior of DataFrame concatenation with empty or all-NA entries is deprecated. In a future version, this will no longer exclude empty or all-NA columns when determining the result dtypes. To retain the old behavior, exclude the relevant entries before the concat operation.\n",
      "  df_current_date = pd.concat([df_current_date, df_current_page], ignore_index=True)\n",
      " 11%|█         | 1/9 [00:02<00:19,  2.39s/it]C:\\Users\\khanifud1\\AppData\\Local\\Temp\\ipykernel_32516\\1031591246.py:39: FutureWarning: The behavior of DataFrame concatenation with empty or all-NA entries is deprecated. In a future version, this will no longer exclude empty or all-NA columns when determining the result dtypes. To retain the old behavior, exclude the relevant entries before the concat operation.\n",
      "  df_current_date = pd.concat([df_current_date, df_current_page], ignore_index=True)\n",
      " 22%|██▏       | 2/9 [00:04<00:14,  2.00s/it]C:\\Users\\khanifud1\\AppData\\Local\\Temp\\ipykernel_32516\\1031591246.py:39: FutureWarning: The behavior of DataFrame concatenation with empty or all-NA entries is deprecated. In a future version, this will no longer exclude empty or all-NA columns when determining the result dtypes. To retain the old behavior, exclude the relevant entries before the concat operation.\n",
      "  df_current_date = pd.concat([df_current_date, df_current_page], ignore_index=True)\n",
      " 33%|███▎      | 3/9 [00:05<00:09,  1.65s/it]C:\\Users\\khanifud1\\AppData\\Local\\Temp\\ipykernel_32516\\1031591246.py:39: FutureWarning: The behavior of DataFrame concatenation with empty or all-NA entries is deprecated. In a future version, this will no longer exclude empty or all-NA columns when determining the result dtypes. To retain the old behavior, exclude the relevant entries before the concat operation.\n",
      "  df_current_date = pd.concat([df_current_date, df_current_page], ignore_index=True)\n",
      " 44%|████▍     | 4/9 [00:07<00:10,  2.01s/it]C:\\Users\\khanifud1\\AppData\\Local\\Temp\\ipykernel_32516\\1031591246.py:39: FutureWarning: The behavior of DataFrame concatenation with empty or all-NA entries is deprecated. In a future version, this will no longer exclude empty or all-NA columns when determining the result dtypes. To retain the old behavior, exclude the relevant entries before the concat operation.\n",
      "  df_current_date = pd.concat([df_current_date, df_current_page], ignore_index=True)\n",
      " 56%|█████▌    | 5/9 [00:10<00:08,  2.23s/it]C:\\Users\\khanifud1\\AppData\\Local\\Temp\\ipykernel_32516\\1031591246.py:39: FutureWarning: The behavior of DataFrame concatenation with empty or all-NA entries is deprecated. In a future version, this will no longer exclude empty or all-NA columns when determining the result dtypes. To retain the old behavior, exclude the relevant entries before the concat operation.\n",
      "  df_current_date = pd.concat([df_current_date, df_current_page], ignore_index=True)\n",
      " 67%|██████▋   | 6/9 [00:13<00:07,  2.36s/it]C:\\Users\\khanifud1\\AppData\\Local\\Temp\\ipykernel_32516\\1031591246.py:39: FutureWarning: The behavior of DataFrame concatenation with empty or all-NA entries is deprecated. In a future version, this will no longer exclude empty or all-NA columns when determining the result dtypes. To retain the old behavior, exclude the relevant entries before the concat operation.\n",
      "  df_current_date = pd.concat([df_current_date, df_current_page], ignore_index=True)\n",
      " 78%|███████▊  | 7/9 [00:15<00:04,  2.48s/it]C:\\Users\\khanifud1\\AppData\\Local\\Temp\\ipykernel_32516\\1031591246.py:39: FutureWarning: The behavior of DataFrame concatenation with empty or all-NA entries is deprecated. In a future version, this will no longer exclude empty or all-NA columns when determining the result dtypes. To retain the old behavior, exclude the relevant entries before the concat operation.\n",
      "  df_current_date = pd.concat([df_current_date, df_current_page], ignore_index=True)\n",
      " 89%|████████▉ | 8/9 [00:18<00:02,  2.43s/it]C:\\Users\\khanifud1\\AppData\\Local\\Temp\\ipykernel_32516\\1031591246.py:39: FutureWarning: The behavior of DataFrame concatenation with empty or all-NA entries is deprecated. In a future version, this will no longer exclude empty or all-NA columns when determining the result dtypes. To retain the old behavior, exclude the relevant entries before the concat operation.\n",
      "  df_current_date = pd.concat([df_current_date, df_current_page], ignore_index=True)\n",
      "100%|██████████| 9/9 [00:19<00:00,  2.19s/it]\n"
     ]
    }
   ],
   "source": [
    "base_url = 'https://www.bisnis.com/index?categoryId=194&date={date}&type=indeks&page={page}'\n",
    "def get_bisnis_news(date, page=1):\n",
    "    url = base_url.format(date=date, page=page)\n",
    "    resp = requests.get(url)\n",
    "    soup = BeautifulSoup(resp.text, \"html.parser\")\n",
    "    return soup\n",
    "\n",
    "def extract_link_and_title(soup):\n",
    "    links = []\n",
    "    titles = []\n",
    "    container = soup.find(\"div\", id=\"indeksListView\")\n",
    "    if not container:\n",
    "        return links, titles\n",
    "    elements = container.find_all('div', class_='artContent')\n",
    "    if not elements:\n",
    "        return links, titles\n",
    "    for element in elements:\n",
    "        link = element.find('a',class_='artLink')['href']\n",
    "        title = element.find('a',class_='artLink').find(class_='artTitle').get_text(strip=True)\n",
    "        links.append(link)\n",
    "        titles.append(title)\n",
    "    return links, titles\n",
    "\n",
    "df_list = []\n",
    "dates = pd.date_range(start='2025-08-01', end='2025-08-09', freq='D')\n",
    "for date in tqdm(dates):\n",
    "    page = 1\n",
    "    df_current_date = pd.DataFrame(columns=['published', 'link', 'title'])\n",
    "    while True:\n",
    "        soup = get_bisnis_news(date.strftime('%Y-%m-%d'), page)\n",
    "        if not soup:\n",
    "            break\n",
    "        links, titles = extract_link_and_title(soup)\n",
    "        if not links or not titles:\n",
    "            break\n",
    "        df_current_page = pd.DataFrame({'published': date, 'link': links, 'title': titles})\n",
    "        if df_current_page['link'].isin(df_current_date['link']).any():\n",
    "            break\n",
    "        df_current_date = pd.concat([df_current_date, df_current_page], ignore_index=True)\n",
    "        page += 1\n",
    "    df_list.append(df_current_date)\n",
    "df = pd.concat(df_list, ignore_index=True)"
   ]
  },
  {
   "cell_type": "code",
   "execution_count": 292,
   "id": "8923552c",
   "metadata": {},
   "outputs": [
    {
     "name": "stderr",
     "output_type": "stream",
     "text": [
      "100%|██████████| 223/223 [51:02<00:00, 13.73s/it]\n"
     ]
    }
   ],
   "source": [
    "for i, row in tqdm(df.iterrows(), total=df.shape[0]):\n",
    "    link = row['link']\n",
    "    resp = requests.get(link)\n",
    "    soup = BeautifulSoup(resp.text, \"html.parser\")\n",
    "    paragraphs  = soup.find('article', class_='detailsContent').find_all('p')\n",
    "    content = clean_text(' '.join([\n",
    "        clean_text(p.get_text(separator=\" \", strip=True))\n",
    "        for p in paragraphs\n",
    "        if p.get_text(strip=True) and not p.get_text(strip=True).startswith('#')\n",
    "    ]))\n",
    "    df.at[i, 'content'] = content\n",
    "    wait_time = random.uniform(1, 25)\n",
    "    time.sleep(wait_time)"
   ]
  },
  {
   "cell_type": "code",
   "execution_count": 293,
   "id": "aab78ab7",
   "metadata": {},
   "outputs": [
    {
     "data": {
      "text/html": [
       "<div>\n",
       "<style scoped>\n",
       "    .dataframe tbody tr th:only-of-type {\n",
       "        vertical-align: middle;\n",
       "    }\n",
       "\n",
       "    .dataframe tbody tr th {\n",
       "        vertical-align: top;\n",
       "    }\n",
       "\n",
       "    .dataframe thead th {\n",
       "        text-align: right;\n",
       "    }\n",
       "</style>\n",
       "<table border=\"1\" class=\"dataframe\">\n",
       "  <thead>\n",
       "    <tr style=\"text-align: right;\">\n",
       "      <th></th>\n",
       "      <th>published</th>\n",
       "      <th>link</th>\n",
       "      <th>title</th>\n",
       "      <th>content</th>\n",
       "    </tr>\n",
       "  </thead>\n",
       "  <tbody>\n",
       "    <tr>\n",
       "      <th>0</th>\n",
       "      <td>2025-08-01</td>\n",
       "      <td>https://market.bisnis.com/read/20250801/192/18...</td>\n",
       "      <td>Rahasia Nasabah Binaan PNM Mekaar Dilirik Bran...</td>\n",
       "      <td>Bisnis.com , JAKARTA Kisah Ibu Umi Haryanti, n...</td>\n",
       "    </tr>\n",
       "    <tr>\n",
       "      <th>1</th>\n",
       "      <td>2025-08-01</td>\n",
       "      <td>https://market.bisnis.com/read/20250801/93/189...</td>\n",
       "      <td>Dolar AS Perkasa, Euro Jatuh Imbas Kesepakatan...</td>\n",
       "      <td>Bisnis.com , JAKARTA Mata uang euro mengalami ...</td>\n",
       "    </tr>\n",
       "    <tr>\n",
       "      <th>2</th>\n",
       "      <td>2025-08-01</td>\n",
       "      <td>https://market.bisnis.com/read/20250801/192/18...</td>\n",
       "      <td>Intiland (DILD) Cetak Marketing Sales Rp673,4 ...</td>\n",
       "      <td>Bisnis.com , JAKARTA Emiten properti PT Intila...</td>\n",
       "    </tr>\n",
       "    <tr>\n",
       "      <th>3</th>\n",
       "      <td>2025-08-01</td>\n",
       "      <td>https://market.bisnis.com/read/20250801/192/18...</td>\n",
       "      <td>Bumi Resources (BUMI) Produksi 35,9 Juta Ton B...</td>\n",
       "      <td>Bisnis.com , JAKARTA Emiten tambang batu bara ...</td>\n",
       "    </tr>\n",
       "    <tr>\n",
       "      <th>4</th>\n",
       "      <td>2025-08-01</td>\n",
       "      <td>https://market.bisnis.com/read/20250801/192/18...</td>\n",
       "      <td>Intiland (DILD) Bukukan Pendapatan Rp1,21 Tril...</td>\n",
       "      <td>Bisnis.com , JAKARTA Emiten properti PT Intila...</td>\n",
       "    </tr>\n",
       "  </tbody>\n",
       "</table>\n",
       "</div>"
      ],
      "text/plain": [
       "   published                                               link  \\\n",
       "0 2025-08-01  https://market.bisnis.com/read/20250801/192/18...   \n",
       "1 2025-08-01  https://market.bisnis.com/read/20250801/93/189...   \n",
       "2 2025-08-01  https://market.bisnis.com/read/20250801/192/18...   \n",
       "3 2025-08-01  https://market.bisnis.com/read/20250801/192/18...   \n",
       "4 2025-08-01  https://market.bisnis.com/read/20250801/192/18...   \n",
       "\n",
       "                                               title  \\\n",
       "0  Rahasia Nasabah Binaan PNM Mekaar Dilirik Bran...   \n",
       "1  Dolar AS Perkasa, Euro Jatuh Imbas Kesepakatan...   \n",
       "2  Intiland (DILD) Cetak Marketing Sales Rp673,4 ...   \n",
       "3  Bumi Resources (BUMI) Produksi 35,9 Juta Ton B...   \n",
       "4  Intiland (DILD) Bukukan Pendapatan Rp1,21 Tril...   \n",
       "\n",
       "                                             content  \n",
       "0  Bisnis.com , JAKARTA Kisah Ibu Umi Haryanti, n...  \n",
       "1  Bisnis.com , JAKARTA Mata uang euro mengalami ...  \n",
       "2  Bisnis.com , JAKARTA Emiten properti PT Intila...  \n",
       "3  Bisnis.com , JAKARTA Emiten tambang batu bara ...  \n",
       "4  Bisnis.com , JAKARTA Emiten properti PT Intila...  "
      ]
     },
     "execution_count": 293,
     "metadata": {},
     "output_type": "execute_result"
    }
   ],
   "source": [
    "df.head()"
   ]
  },
  {
   "cell_type": "code",
   "execution_count": 294,
   "id": "21c89542",
   "metadata": {},
   "outputs": [
    {
     "data": {
      "text/plain": [
       "published    0\n",
       "link         0\n",
       "title        0\n",
       "content      0\n",
       "dtype: int64"
      ]
     },
     "execution_count": 294,
     "metadata": {},
     "output_type": "execute_result"
    }
   ],
   "source": [
    "df.isna().sum()"
   ]
  },
  {
   "cell_type": "code",
   "execution_count": 295,
   "id": "f00575e4",
   "metadata": {},
   "outputs": [],
   "source": [
    "df.to_csv('bisnis_news.csv', index=False)"
   ]
  },
  {
   "cell_type": "markdown",
   "id": "44dab629",
   "metadata": {},
   "source": [
    "# IDX CHANNEL"
   ]
  },
  {
   "cell_type": "code",
   "execution_count": 443,
   "id": "e3a2a486",
   "metadata": {},
   "outputs": [],
   "source": [
    "rss_url = \"https://www.idxchannel.com/rss\"\n",
    "feed = feedparser.parse(rss_url)\n",
    "data = []\n",
    "for entry in feed.entries:\n",
    "    data.append({\n",
    "        \"title\": entry.title,\n",
    "        \"link\": entry.link,\n",
    "        \"published\": entry.published\n",
    "    })\n",
    "\n",
    "df = pd.DataFrame(data)\n",
    "df[\"published\"] = pd.to_datetime(df[\"published\"])\n",
    "df['category'] = df['link'].apply(lambda u: urlparse(u).path.strip(\"/\").split(\"/\")[0])"
   ]
  },
  {
   "cell_type": "code",
   "execution_count": 444,
   "id": "f5921008",
   "metadata": {},
   "outputs": [
    {
     "name": "stderr",
     "output_type": "stream",
     "text": [
      "100%|██████████| 10/10 [00:01<00:00,  7.97it/s]\n"
     ]
    }
   ],
   "source": [
    "for i, row in tqdm(df.iterrows(), total=df.shape[0]):\n",
    "    if row['category'] not in ['market-news']:\n",
    "        continue\n",
    "    link= row['link']\n",
    "    page = 1\n",
    "    whole_content = \"\"\n",
    "    while True:\n",
    "        link_with_page = f\"{link}/{page}\"\n",
    "        resp = requests.get(link_with_page)\n",
    "        soup = BeautifulSoup(resp.text, \"html.parser\")\n",
    "        container1 = soup.find('div', class_='article--content')\n",
    "        if not container1:\n",
    "            break\n",
    "        container2 = container1.find('div', class_='content')\n",
    "        if not container2:\n",
    "            break\n",
    "        paragraphs = container2.find_all('p')\n",
    "        content = \" \".join([p.get_text() for p in paragraphs])\n",
    "        content = clean_text(content)\n",
    "        whole_content += \" \" + content\n",
    "        page += 1\n",
    "        \n",
    "    df.at[i, 'content'] = whole_content.strip()"
   ]
  },
  {
   "cell_type": "code",
   "execution_count": 446,
   "id": "611bf0f0",
   "metadata": {},
   "outputs": [],
   "source": [
    "df.to_csv(\"idxchannel_news2.csv\", index=False)"
   ]
  },
  {
   "cell_type": "markdown",
   "id": "33127bec",
   "metadata": {},
   "source": [
    "# PASARDANA"
   ]
  },
  {
   "cell_type": "code",
   "execution_count": 461,
   "id": "281539b0",
   "metadata": {},
   "outputs": [],
   "source": [
    "rss_url = \"https://pasardana.id/rss\"\n",
    "feed = feedparser.parse(rss_url)\n",
    "data = []\n",
    "for entry in feed.entries:\n",
    "    data.append({\n",
    "        \"title\": entry.title,\n",
    "        \"link\": entry.link,\n",
    "        \"published\": entry.published\n",
    "    })\n",
    "\n",
    "df = pd.DataFrame(data)\n",
    "df[\"published\"] = pd.to_datetime(df[\"published\"])"
   ]
  },
  {
   "cell_type": "code",
   "execution_count": 471,
   "id": "5213069f",
   "metadata": {},
   "outputs": [
    {
     "name": "stderr",
     "output_type": "stream",
     "text": [
      "100%|██████████| 30/30 [05:17<00:00, 10.57s/it]\n"
     ]
    }
   ],
   "source": [
    "for i, row in tqdm(df.iterrows(), total=df.shape[0]):\n",
    "    link = row['link']\n",
    "    resp = requests.get(link)\n",
    "    soup = BeautifulSoup(resp.text, \"html.parser\")\n",
    "    paragraphs = soup.find('section', class_='entry-content').find_all('p')\n",
    "    content = \" \".join([p.get_text() for p in paragraphs])\n",
    "    df.at[i, 'content'] = content\n",
    "    \n",
    "    wait_time = random.uniform(1, 15)\n",
    "    time.sleep(wait_time)"
   ]
  },
  {
   "cell_type": "code",
   "execution_count": 473,
   "id": "c698b98c",
   "metadata": {},
   "outputs": [],
   "source": [
    "df.to_csv('investor_id_news.csv', index=False)"
   ]
  },
  {
   "cell_type": "markdown",
   "id": "e65bd7d0",
   "metadata": {},
   "source": [
    "# IQPLUS"
   ]
  },
  {
   "cell_type": "code",
   "execution_count": 474,
   "id": "0cb970a0",
   "metadata": {},
   "outputs": [],
   "source": [
    "base_url = \"http://www.iqplus.info/news/stock_news/go-to-page,{page}.html\""
   ]
  },
  {
   "cell_type": "code",
   "execution_count": 496,
   "id": "3c0da10d",
   "metadata": {},
   "outputs": [
    {
     "data": {
      "text/plain": [
       "{'User-Agent': 'Mozilla/5.0 (Windows NT 10.0; Win64; x64) AppleWebKit/537.36 (KHTML, like Gecko) Chrome/115.0 Safari/537.36',\n",
       " 'Accept-Language': 'en-US,en;q=0.9',\n",
       " 'Referer': 'https://www.idxchannel.com/',\n",
       " 'Accept': 'text/html,application/xhtml+xml,application/xml;q=0.9,image/webp,image/apng,*/*;q=0.8'}"
      ]
     },
     "execution_count": 496,
     "metadata": {},
     "output_type": "execute_result"
    }
   ],
   "source": [
    "headers"
   ]
  },
  {
   "cell_type": "code",
   "execution_count": 497,
   "id": "c5026cf8",
   "metadata": {},
   "outputs": [],
   "source": [
    "headers = {'User-Agent': 'Mozilla/5.0 (Windows NT 10.0; Win64; x64) AppleWebKit/537.36 (KHTML, like Gecko) Chrome/115.0 Safari/537.36',\n",
    " 'Accept-Language': 'en-US,en;q=0.9',\n",
    " 'Referer': 'http://www.iqplus.info',\n",
    " 'Accept': 'text/html,application/xhtml+xml,application/xml;q=0.9,image/webp,image/apng,*/*;q=0.8'}"
   ]
  },
  {
   "cell_type": "code",
   "execution_count": 526,
   "id": "64a8a958",
   "metadata": {},
   "outputs": [],
   "source": [
    "headers = {\n",
    "    'User-Agent': 'Mozilla/5.0 (Windows NT 10.0; Win64; x64)',\n",
    "    'Referer': 'http://www.iqplus.info'\n",
    "}\n",
    "df = pd.DataFrame(columns=['published', 'link', 'title'])\n",
    "ajax_url = \"http://www.iqplus.info/box_listnews_more.php?csection=stock_news&id={page}\"\n",
    "page = 1\n",
    "while True:\n",
    "    url = ajax_url.format(page=page)\n",
    "    resp = requests.get(url, headers=headers)\n",
    "    if resp.status_code != 200:\n",
    "        break\n",
    "    soup = BeautifulSoup(resp.text, \"html.parser\")\n",
    "    lis = soup.find_all('li', style='text-transform:capitalize;')\n",
    "    if not lis:\n",
    "        break\n",
    "    df_current_page = {'published' : [], 'link': [], 'title': []}\n",
    "    for li in lis:\n",
    "        published = li.find(\"b\").get_text(strip=True)\n",
    "        a_tag = li.find(\"a\")\n",
    "        link = a_tag[\"href\"]\n",
    "        title = a_tag.get_text(strip=True)\n",
    "        df_current_page['published'].append(published)\n",
    "        df_current_page['link'].append(link)\n",
    "        df_current_page['title'].append(title)\n",
    "    df_current_page = pd.DataFrame(df_current_page)\n",
    "    df_current_page['published'] = df_current_page['published'].apply(lambda x: datetime.strptime(x, \"%d/%m/%y - %H:%M\"))\n",
    "    if df_current_page['published'].min().normalize() < datetime(2025, 8, 1):\n",
    "        break\n",
    "    df = pd.concat([df, df_current_page], ignore_index=True)\n",
    "    wait_time = random.uniform(1, 10)\n",
    "    time.sleep(wait_time)\n",
    "    page += 1\n"
   ]
  },
  {
   "cell_type": "code",
   "execution_count": 528,
   "id": "d7f66bf4",
   "metadata": {},
   "outputs": [],
   "source": [
    "df.to_csv('iqplus_news.csv', index=False)"
   ]
  },
  {
   "cell_type": "code",
   "execution_count": 540,
   "id": "852976cd",
   "metadata": {},
   "outputs": [
    {
     "name": "stderr",
     "output_type": "stream",
     "text": [
      "100%|██████████| 300/300 [1:00:32<00:00, 12.11s/it]\n"
     ]
    }
   ],
   "source": [
    "for i, row in tqdm(df.iterrows(), total=df.shape[0]):\n",
    "    link = row['link']\n",
    "    resp = requests.get(link, headers=headers)\n",
    "    soup = BeautifulSoup(resp.text, \"html.parser\")\n",
    "    container1 = soup.find('div', class_='midcol')\n",
    "    if not container1:\n",
    "        continue\n",
    "    zoom_div = soup.find(\"div\", id=\"zoomthis\")\n",
    "    if not zoom_div:\n",
    "        continue\n",
    "    for tag in zoom_div.find_all([\"small\", \"h3\"]):\n",
    "        tag.decompose()  # menghapus dari tree\n",
    "    news_content = zoom_div.get_text(separator=\"\\n\", strip=True)\n",
    "    news_content = clean_text(news_content)\n",
    "    df.at[i, 'content'] = news_content\n",
    "    wait_time = random.uniform(1, 20)\n",
    "    time.sleep(wait_time)"
   ]
  },
  {
   "cell_type": "code",
   "execution_count": 541,
   "id": "978dbdba",
   "metadata": {},
   "outputs": [
    {
     "data": {
      "text/html": [
       "<div>\n",
       "<style scoped>\n",
       "    .dataframe tbody tr th:only-of-type {\n",
       "        vertical-align: middle;\n",
       "    }\n",
       "\n",
       "    .dataframe tbody tr th {\n",
       "        vertical-align: top;\n",
       "    }\n",
       "\n",
       "    .dataframe thead th {\n",
       "        text-align: right;\n",
       "    }\n",
       "</style>\n",
       "<table border=\"1\" class=\"dataframe\">\n",
       "  <thead>\n",
       "    <tr style=\"text-align: right;\">\n",
       "      <th></th>\n",
       "      <th>published</th>\n",
       "      <th>link</th>\n",
       "      <th>title</th>\n",
       "      <th>content</th>\n",
       "    </tr>\n",
       "  </thead>\n",
       "  <tbody>\n",
       "    <tr>\n",
       "      <th>0</th>\n",
       "      <td>2025-08-08 04:43:00</td>\n",
       "      <td>http://www.iqplus.info/news/stock_news/bjtm-ba...</td>\n",
       "      <td>BJTM: BANK JATIM-BANK LAMPUNG TEKEN MOU INTEGR...</td>\n",
       "      <td>IQPlus, (8/8) Bank Jatim dan Bank Lampung mene...</td>\n",
       "    </tr>\n",
       "    <tr>\n",
       "      <th>1</th>\n",
       "      <td>2025-08-08 04:39:00</td>\n",
       "      <td>http://www.iqplus.info/news/stock_news/batr-ri...</td>\n",
       "      <td>BATR: RIDWAN TAMBAH KEPEMILIKAN SAHAM BATR</td>\n",
       "      <td>IQPlus, (8/8) Ridwan selaku Direktur utama PT ...</td>\n",
       "    </tr>\n",
       "    <tr>\n",
       "      <th>2</th>\n",
       "      <td>2025-08-08 04:36:00</td>\n",
       "      <td>http://www.iqplus.info/news/stock_news/widi-wi...</td>\n",
       "      <td>WIDI: WIDI LAKUKAN KEGIATAN CSR DI JAKARTA BARAT</td>\n",
       "      <td>IQPlus, (8/8) PT Widiant Jaya Krenindo Tbk mel...</td>\n",
       "    </tr>\n",
       "    <tr>\n",
       "      <th>3</th>\n",
       "      <td>2025-08-08 04:23:00</td>\n",
       "      <td>http://www.iqplus.info/news/stock_news/tebe-te...</td>\n",
       "      <td>TEBE: TEBE PEROLEH HAK KONSESI UNTUK JASA KEPE...</td>\n",
       "      <td>IQPlus, (8/8) PT Dana Brata Luhur Tbk (TEBE) t...</td>\n",
       "    </tr>\n",
       "    <tr>\n",
       "      <th>4</th>\n",
       "      <td>2025-08-08 03:49:00</td>\n",
       "      <td>http://www.iqplus.info/news/stock_news/pipa-mo...</td>\n",
       "      <td>PIPA: MORRIS CAPITAL AMBIL ALIH 5,1% SAHAM PIPA</td>\n",
       "      <td>IQPlus, (8/8) PT Morris Capital Indonesia tela...</td>\n",
       "    </tr>\n",
       "  </tbody>\n",
       "</table>\n",
       "</div>"
      ],
      "text/plain": [
       "            published                                               link  \\\n",
       "0 2025-08-08 04:43:00  http://www.iqplus.info/news/stock_news/bjtm-ba...   \n",
       "1 2025-08-08 04:39:00  http://www.iqplus.info/news/stock_news/batr-ri...   \n",
       "2 2025-08-08 04:36:00  http://www.iqplus.info/news/stock_news/widi-wi...   \n",
       "3 2025-08-08 04:23:00  http://www.iqplus.info/news/stock_news/tebe-te...   \n",
       "4 2025-08-08 03:49:00  http://www.iqplus.info/news/stock_news/pipa-mo...   \n",
       "\n",
       "                                               title  \\\n",
       "0  BJTM: BANK JATIM-BANK LAMPUNG TEKEN MOU INTEGR...   \n",
       "1         BATR: RIDWAN TAMBAH KEPEMILIKAN SAHAM BATR   \n",
       "2   WIDI: WIDI LAKUKAN KEGIATAN CSR DI JAKARTA BARAT   \n",
       "3  TEBE: TEBE PEROLEH HAK KONSESI UNTUK JASA KEPE...   \n",
       "4    PIPA: MORRIS CAPITAL AMBIL ALIH 5,1% SAHAM PIPA   \n",
       "\n",
       "                                             content  \n",
       "0  IQPlus, (8/8) Bank Jatim dan Bank Lampung mene...  \n",
       "1  IQPlus, (8/8) Ridwan selaku Direktur utama PT ...  \n",
       "2  IQPlus, (8/8) PT Widiant Jaya Krenindo Tbk mel...  \n",
       "3  IQPlus, (8/8) PT Dana Brata Luhur Tbk (TEBE) t...  \n",
       "4  IQPlus, (8/8) PT Morris Capital Indonesia tela...  "
      ]
     },
     "execution_count": 541,
     "metadata": {},
     "output_type": "execute_result"
    }
   ],
   "source": [
    "df.head()"
   ]
  },
  {
   "cell_type": "code",
   "execution_count": 542,
   "id": "eb0f6d15",
   "metadata": {},
   "outputs": [
    {
     "data": {
      "text/plain": [
       "published    0\n",
       "link         0\n",
       "title        0\n",
       "content      0\n",
       "dtype: int64"
      ]
     },
     "execution_count": 542,
     "metadata": {},
     "output_type": "execute_result"
    }
   ],
   "source": [
    "df.isna().sum()"
   ]
  },
  {
   "cell_type": "code",
   "execution_count": 555,
   "id": "1d1d4ae7",
   "metadata": {},
   "outputs": [
    {
     "data": {
      "text/html": [
       "<div>\n",
       "<style scoped>\n",
       "    .dataframe tbody tr th:only-of-type {\n",
       "        vertical-align: middle;\n",
       "    }\n",
       "\n",
       "    .dataframe tbody tr th {\n",
       "        vertical-align: top;\n",
       "    }\n",
       "\n",
       "    .dataframe thead th {\n",
       "        text-align: right;\n",
       "    }\n",
       "</style>\n",
       "<table border=\"1\" class=\"dataframe\">\n",
       "  <thead>\n",
       "    <tr style=\"text-align: right;\">\n",
       "      <th></th>\n",
       "      <th>published</th>\n",
       "      <th>link</th>\n",
       "      <th>title</th>\n",
       "      <th>content</th>\n",
       "    </tr>\n",
       "  </thead>\n",
       "  <tbody>\n",
       "    <tr>\n",
       "      <th>169</th>\n",
       "      <td>2025-08-05 09:35:00</td>\n",
       "      <td>http://www.iqplus.info/news/stock_news/bris-bs...</td>\n",
       "      <td>BRIS: BSI MASLAHAT DUKUNG PEMBANGUNAN SOSIAL Y...</td>\n",
       "      <td>IQPlus, (5/8) BSI Maslahat terus berupaya dala...</td>\n",
       "    </tr>\n",
       "    <tr>\n",
       "      <th>86</th>\n",
       "      <td>2025-08-07 08:14:00</td>\n",
       "      <td>http://www.iqplus.info/news/stock_news/irsx-be...</td>\n",
       "      <td>IRSX: BEI BUKA KEMBALI PERDAGANGAN SAHAM IRSX</td>\n",
       "      <td>IQPlus, (7/8) Bursa Efek Indonesia (BEI) membu...</td>\n",
       "    </tr>\n",
       "    <tr>\n",
       "      <th>75</th>\n",
       "      <td>2025-08-07 09:24:00</td>\n",
       "      <td>http://www.iqplus.info/news/stock_news/aman-pr...</td>\n",
       "      <td>AMAN: PROGRES PEMBANGUNAN PABRIK AMAN MASIH BE...</td>\n",
       "      <td>IQPlus, (7/8) PT Makmur Berkah Amanda Tbk (AMA...</td>\n",
       "    </tr>\n",
       "    <tr>\n",
       "      <th>63</th>\n",
       "      <td>2025-08-07 11:43:00</td>\n",
       "      <td>http://www.iqplus.info/news/stock_news/jsmr-ja...</td>\n",
       "      <td>JSMR: JASA MARGA RAIH PENGHARGAAN INDONESIA BE...</td>\n",
       "      <td>IQPlus, (7/8) PT Jasa Marga (Persero) Tbk yang...</td>\n",
       "    </tr>\n",
       "    <tr>\n",
       "      <th>77</th>\n",
       "      <td>2025-08-07 09:05:00</td>\n",
       "      <td>http://www.iqplus.info/news/stock_news/aman-am...</td>\n",
       "      <td>AMAN: AMAN KLAIM MILIKI 894 UNIT PROPERTI DI K...</td>\n",
       "      <td>IQPlus, (7/8) PT Makmur Berkah Amanda Tbk (AMA...</td>\n",
       "    </tr>\n",
       "  </tbody>\n",
       "</table>\n",
       "</div>"
      ],
      "text/plain": [
       "              published                                               link  \\\n",
       "169 2025-08-05 09:35:00  http://www.iqplus.info/news/stock_news/bris-bs...   \n",
       "86  2025-08-07 08:14:00  http://www.iqplus.info/news/stock_news/irsx-be...   \n",
       "75  2025-08-07 09:24:00  http://www.iqplus.info/news/stock_news/aman-pr...   \n",
       "63  2025-08-07 11:43:00  http://www.iqplus.info/news/stock_news/jsmr-ja...   \n",
       "77  2025-08-07 09:05:00  http://www.iqplus.info/news/stock_news/aman-am...   \n",
       "\n",
       "                                                 title  \\\n",
       "169  BRIS: BSI MASLAHAT DUKUNG PEMBANGUNAN SOSIAL Y...   \n",
       "86       IRSX: BEI BUKA KEMBALI PERDAGANGAN SAHAM IRSX   \n",
       "75   AMAN: PROGRES PEMBANGUNAN PABRIK AMAN MASIH BE...   \n",
       "63   JSMR: JASA MARGA RAIH PENGHARGAAN INDONESIA BE...   \n",
       "77   AMAN: AMAN KLAIM MILIKI 894 UNIT PROPERTI DI K...   \n",
       "\n",
       "                                               content  \n",
       "169  IQPlus, (5/8) BSI Maslahat terus berupaya dala...  \n",
       "86   IQPlus, (7/8) Bursa Efek Indonesia (BEI) membu...  \n",
       "75   IQPlus, (7/8) PT Makmur Berkah Amanda Tbk (AMA...  \n",
       "63   IQPlus, (7/8) PT Jasa Marga (Persero) Tbk yang...  \n",
       "77   IQPlus, (7/8) PT Makmur Berkah Amanda Tbk (AMA...  "
      ]
     },
     "execution_count": 555,
     "metadata": {},
     "output_type": "execute_result"
    }
   ],
   "source": [
    "df.sample(5)"
   ]
  },
  {
   "cell_type": "code",
   "execution_count": 556,
   "id": "a002f59c",
   "metadata": {},
   "outputs": [],
   "source": [
    "df.to_csv('iqplus_news.csv', index=False)"
   ]
  },
  {
   "cell_type": "code",
   "execution_count": 537,
   "id": "58d5bf52",
   "metadata": {},
   "outputs": [],
   "source": [
    "zoom_div = soup.find('div', class_='midcol').find(\"div\", id=\"zoomthis\")\n",
    "\n",
    "# Ambil teks bersih tanpa tag HTML\n",
    "news_content = zoom_div.get_text(separator=\"\\n\", strip=True)"
   ]
  },
  {
   "cell_type": "code",
   "execution_count": 539,
   "id": "80a3db46",
   "metadata": {},
   "outputs": [
    {
     "data": {
      "text/plain": [
       "'Friday 08/Aug/2025 at 16:43 BANK JATIM-BANK LAMPUNG TEKEN MOU INTEGRASI KUB DUKUNG EKONOMI DAERAH. IQPlus, (8/8) Bank Jatim dan Bank Lampung meneken nota kesepahaman (MoU) terkait perjanjian penyertaan dan pengambilalihan saham bersyarat Conditional Shares Subscription and Acquisition Agreement (CSSA) sebagai bagian dari integrasi Kelompok Usaha Bank (KUB) yang disaksikan gubernur kedua provinsi itu. \"Yang menjadi penguat misi dagang kali ini karena ada MoU KUB antara Bank Jatim dan Bank Lampung. Saya rasa ini akan membangun konektivitas dunia perbankan, keuangan dan ekonomi antar daerah,. kata Gubernur Jatim Khofifah Indar Parawansa dalam keterangan diterima di Surabaya, Jawa Timur, Jumat. Penandatanganan dilakukan oleh Plt. Direktur Utama Bank Jatim Arif Suhirman dan Direktur Utama Bank Lampung Mahdi Yusuf dalam rangkaian Misi Dagang dan Investasi Jawa Timur.Lampung. Bank Jatim akan memberikan penyertaan modal senilai Rp100 miliar kepada Bank Lampung. Khofifah menegaskan penandatanganan integrasi KUB ini menjadi yang pertama kali dilakukan sepanjang sejarah misi dagang Pemprov Jatim baik di periode pertama maupun kedua kepemimpinannya. \"Di semua misi dagang yang pernah kami lakukan, baik pada lima tahun periode pertama maupun periode kedua, baru kali ini ada misi dagang yang diikuti dengan penandatanganan KUB,\" ujarnya. (end/ant)'"
      ]
     },
     "execution_count": 539,
     "metadata": {},
     "output_type": "execute_result"
    }
   ],
   "source": [
    "clean_text(news_content)"
   ]
  },
  {
   "cell_type": "code",
   "execution_count": null,
   "id": "6f07f5e6",
   "metadata": {},
   "outputs": [],
   "source": []
  }
 ],
 "metadata": {
  "kernelspec": {
   "display_name": "stock-monitor",
   "language": "python",
   "name": "python3"
  },
  "language_info": {
   "codemirror_mode": {
    "name": "ipython",
    "version": 3
   },
   "file_extension": ".py",
   "mimetype": "text/x-python",
   "name": "python",
   "nbconvert_exporter": "python",
   "pygments_lexer": "ipython3",
   "version": "3.11.13"
  }
 },
 "nbformat": 4,
 "nbformat_minor": 5
}
